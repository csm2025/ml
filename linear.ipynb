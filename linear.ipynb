{
 "cells": [
  {
   "cell_type": "code",
   "execution_count": 1,
   "metadata": {},
   "outputs": [],
   "source": [
    "import numpy as np \n",
    "import pandas as pd \n",
    "from sklearn.datasets import load_diabetes\n",
    "from sklearn.model_selection import train_test_split\n",
    "from sklearn.metrics import r2_score, mean_absolute_error, mean_squared_error, mean_squared_log_error\n",
    "from sklearn.preprocessing import PolynomialFeatures\n",
    "from sklearn.linear_model import LinearRegression, Ridge, Lasso, SGDRegressor\n",
    "from sklearn.pipeline import Pipeline"
   ]
  },
  {
   "cell_type": "code",
   "execution_count": 2,
   "metadata": {},
   "outputs": [],
   "source": [
    "diabetes = load_diabetes()\n",
    "X = diabetes.data\n",
    "y = diabetes.target"
   ]
  },
  {
   "cell_type": "code",
   "execution_count": 3,
   "metadata": {},
   "outputs": [],
   "source": [
    "x_train, x_test, y_train, y_test = train_test_split(X, y, test_size=0.2, random_state=42)"
   ]
  },
  {
   "cell_type": "code",
   "execution_count": 4,
   "metadata": {},
   "outputs": [],
   "source": [
    "models = [\n",
    "    (\"Ordinary Linear Regression\", LinearRegression()),\n",
    "    (\"Ridge Regression\", Ridge(alpha=0.1)),\n",
    "    (\"Lasso Regression\", Ridge(alpha=0.1)),\n",
    "    (\"Gradient Descent Regressor\", SGDRegressor(max_iter=10000, tol = 1e-3))\n",
    "]"
   ]
  },
  {
   "cell_type": "code",
   "execution_count": 6,
   "metadata": {},
   "outputs": [
    {
     "name": "stdout",
     "output_type": "stream",
     "text": [
      "[{'Model': LinearRegression(), 'MSE': 2900.19362849348, 'MAE': 42.79409467959994, 'R2': 0.4526027629719197, 'MSLE': 0.17696674535345117}, {'Model': Ridge(alpha=0.1), 'MSE': 2856.486887670654, 'MAE': 42.99693214159653, 'R2': 0.46085219464119254, 'MSLE': 0.16843041182453677}, {'Model': Ridge(alpha=0.1), 'MSE': 2856.486887670654, 'MAE': 42.99693214159653, 'R2': 0.46085219464119254, 'MSLE': 0.16843041182453677}, {'Model': SGDRegressor(), 'MSE': 3111.702619557472, 'MAE': 46.480303155810134, 'R2': 0.41268148455191, 'MSLE': 0.18641751747844754}]\n"
     ]
    },
    {
     "name": "stderr",
     "output_type": "stream",
     "text": [
      "c:\\python37\\lib\\site-packages\\sklearn\\linear_model\\_stochastic_gradient.py:1561: ConvergenceWarning: Maximum number of iteration reached before convergence. Consider increasing max_iter to improve the fit.\n",
      "  warnings.warn(\n"
     ]
    }
   ],
   "source": [
    "result = []\n",
    "result1 = []\n",
    "\n",
    "for model_name, model in models:\n",
    "    model.fit(x_train, y_train)\n",
    "    y_pred_test = model.predict(x_test)\n",
    "    \n",
    "    mse_test = mean_squared_error(y_test, y_pred_test)\n",
    "    mae_test = mean_absolute_error(y_test, y_pred_test)\n",
    "    r2_test = r2_score(y_test, y_pred_test)\n",
    "    msle_test = mean_squared_log_error(y_test, y_pred_test)\n",
    "\n",
    "    result.append({\n",
    "        \"Model\": model,\n",
    "        \"MSE\": mse_test,\n",
    "        \"MAE\": mae_test,\n",
    "        \"R2\": r2_test,\n",
    "        \"MSLE\": msle_test\n",
    "    })\n",
    "print(result)"
   ]
  }
 ],
 "metadata": {
  "kernelspec": {
   "display_name": "Python 3",
   "language": "python",
   "name": "python3"
  },
  "language_info": {
   "codemirror_mode": {
    "name": "ipython",
    "version": 3
   },
   "file_extension": ".py",
   "mimetype": "text/x-python",
   "name": "python",
   "nbconvert_exporter": "python",
   "pygments_lexer": "ipython3",
   "version": "3.10.11"
  }
 },
 "nbformat": 4,
 "nbformat_minor": 2
}
